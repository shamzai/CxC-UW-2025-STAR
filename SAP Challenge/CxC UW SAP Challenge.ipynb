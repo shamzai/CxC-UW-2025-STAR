{
 "cells": [
  {
   "cell_type": "markdown",
   "id": "11681150",
   "metadata": {},
   "source": [
    "# SAP Sustainability & Multidimensional Poverty Index Challenge"
   ]
  },
  {
   "cell_type": "markdown",
   "id": "db880123",
   "metadata": {},
   "source": [
    "## Loading Data"
   ]
  },
  {
   "cell_type": "code",
   "execution_count": 1,
   "id": "eddfcfd5",
   "metadata": {},
   "outputs": [],
   "source": [
    "import pandas as pd\n",
    "import numpy as np\n",
    "import matplotlib.pyplot as plt\n",
    "import seaborn as sns\n",
    "from sklearn.preprocessing import MinMaxScaler\n",
    "from sklearn.decomposition import PCA\n",
    "from sklearn.ensemble import RandomForestRegressor\n",
    "from sklearn.cluster import KMeans\n",
    "import plotly.express as px"
   ]
  },
  {
   "cell_type": "code",
   "execution_count": 2,
   "id": "6d259fa1",
   "metadata": {},
   "outputs": [
    {
     "data": {
      "text/plain": [
       "['AFE']"
      ]
     },
     "execution_count": 2,
     "metadata": {},
     "output_type": "execute_result"
    }
   ],
   "source": [
    "# Load the Excel file\n",
    "file_path = \"SAP Datasets.xlsx\"\n",
    "xls = pd.ExcelFile(file_path)\n",
    "\n",
    "# Display sheet names\n",
    "xls.sheet_names\n"
   ]
  },
  {
   "cell_type": "code",
   "execution_count": 3,
   "id": "cea5c078",
   "metadata": {
    "scrolled": false
   },
   "outputs": [
    {
     "data": {
      "text/html": [
       "<div>\n",
       "<style scoped>\n",
       "    .dataframe tbody tr th:only-of-type {\n",
       "        vertical-align: middle;\n",
       "    }\n",
       "\n",
       "    .dataframe tbody tr th {\n",
       "        vertical-align: top;\n",
       "    }\n",
       "\n",
       "    .dataframe thead th {\n",
       "        text-align: right;\n",
       "    }\n",
       "</style>\n",
       "<table border=\"1\" class=\"dataframe\">\n",
       "  <thead>\n",
       "    <tr style=\"text-align: right;\">\n",
       "      <th></th>\n",
       "      <th>Country Name</th>\n",
       "      <th>Country Code</th>\n",
       "      <th>Indicator Name</th>\n",
       "      <th>Topic</th>\n",
       "      <th>short description</th>\n",
       "      <th>long description</th>\n",
       "      <th>Indicator Code</th>\n",
       "      <th>Unit of measure</th>\n",
       "      <th>2000</th>\n",
       "      <th>2001</th>\n",
       "      <th>...</th>\n",
       "      <th>2014</th>\n",
       "      <th>2015</th>\n",
       "      <th>2016</th>\n",
       "      <th>2017</th>\n",
       "      <th>2018</th>\n",
       "      <th>2019</th>\n",
       "      <th>2020</th>\n",
       "      <th>2021</th>\n",
       "      <th>2022</th>\n",
       "      <th>2023</th>\n",
       "    </tr>\n",
       "  </thead>\n",
       "  <tbody>\n",
       "    <tr>\n",
       "      <th>0</th>\n",
       "      <td>Aruba</td>\n",
       "      <td>ABW</td>\n",
       "      <td>Control of Corruption: Estimate</td>\n",
       "      <td>Public Sector: Policy &amp; institutions</td>\n",
       "      <td>NaN</td>\n",
       "      <td>NaN</td>\n",
       "      <td>CC.EST</td>\n",
       "      <td>0</td>\n",
       "      <td>NaN</td>\n",
       "      <td>NaN</td>\n",
       "      <td>...</td>\n",
       "      <td>1.014232</td>\n",
       "      <td>1.248461</td>\n",
       "      <td>1.232735</td>\n",
       "      <td>1.239377</td>\n",
       "      <td>1.207429</td>\n",
       "      <td>1.174703</td>\n",
       "      <td>1.199392</td>\n",
       "      <td>0.801611</td>\n",
       "      <td>0.756785</td>\n",
       "      <td>NaN</td>\n",
       "    </tr>\n",
       "    <tr>\n",
       "      <th>1</th>\n",
       "      <td>Africa Eastern and Southern</td>\n",
       "      <td>AFE</td>\n",
       "      <td>Control of Corruption: Estimate</td>\n",
       "      <td>Public Sector: Policy &amp; institutions</td>\n",
       "      <td>NaN</td>\n",
       "      <td>NaN</td>\n",
       "      <td>CC.EST</td>\n",
       "      <td>0</td>\n",
       "      <td>NaN</td>\n",
       "      <td>NaN</td>\n",
       "      <td>...</td>\n",
       "      <td>NaN</td>\n",
       "      <td>NaN</td>\n",
       "      <td>NaN</td>\n",
       "      <td>NaN</td>\n",
       "      <td>NaN</td>\n",
       "      <td>NaN</td>\n",
       "      <td>NaN</td>\n",
       "      <td>NaN</td>\n",
       "      <td>NaN</td>\n",
       "      <td>NaN</td>\n",
       "    </tr>\n",
       "    <tr>\n",
       "      <th>2</th>\n",
       "      <td>Afghanistan</td>\n",
       "      <td>AFG</td>\n",
       "      <td>Control of Corruption: Estimate</td>\n",
       "      <td>Public Sector: Policy &amp; institutions</td>\n",
       "      <td>NaN</td>\n",
       "      <td>NaN</td>\n",
       "      <td>CC.EST</td>\n",
       "      <td>0</td>\n",
       "      <td>-1.271724</td>\n",
       "      <td>NaN</td>\n",
       "      <td>...</td>\n",
       "      <td>-1.364743</td>\n",
       "      <td>-1.354240</td>\n",
       "      <td>-1.540353</td>\n",
       "      <td>-1.531910</td>\n",
       "      <td>-1.502881</td>\n",
       "      <td>-1.419499</td>\n",
       "      <td>-1.493700</td>\n",
       "      <td>-1.152327</td>\n",
       "      <td>-1.183776</td>\n",
       "      <td>NaN</td>\n",
       "    </tr>\n",
       "    <tr>\n",
       "      <th>3</th>\n",
       "      <td>Africa Western and Central</td>\n",
       "      <td>AFW</td>\n",
       "      <td>Control of Corruption: Estimate</td>\n",
       "      <td>Public Sector: Policy &amp; institutions</td>\n",
       "      <td>NaN</td>\n",
       "      <td>NaN</td>\n",
       "      <td>CC.EST</td>\n",
       "      <td>0</td>\n",
       "      <td>NaN</td>\n",
       "      <td>NaN</td>\n",
       "      <td>...</td>\n",
       "      <td>NaN</td>\n",
       "      <td>NaN</td>\n",
       "      <td>NaN</td>\n",
       "      <td>NaN</td>\n",
       "      <td>NaN</td>\n",
       "      <td>NaN</td>\n",
       "      <td>NaN</td>\n",
       "      <td>NaN</td>\n",
       "      <td>NaN</td>\n",
       "      <td>NaN</td>\n",
       "    </tr>\n",
       "    <tr>\n",
       "      <th>4</th>\n",
       "      <td>Angola</td>\n",
       "      <td>AGO</td>\n",
       "      <td>Control of Corruption: Estimate</td>\n",
       "      <td>Public Sector: Policy &amp; institutions</td>\n",
       "      <td>NaN</td>\n",
       "      <td>NaN</td>\n",
       "      <td>CC.EST</td>\n",
       "      <td>0</td>\n",
       "      <td>-1.197514</td>\n",
       "      <td>NaN</td>\n",
       "      <td>...</td>\n",
       "      <td>-1.457798</td>\n",
       "      <td>-1.427323</td>\n",
       "      <td>-1.483337</td>\n",
       "      <td>-1.444333</td>\n",
       "      <td>-1.199251</td>\n",
       "      <td>-1.058418</td>\n",
       "      <td>-0.938673</td>\n",
       "      <td>-0.651610</td>\n",
       "      <td>-0.601941</td>\n",
       "      <td>NaN</td>\n",
       "    </tr>\n",
       "  </tbody>\n",
       "</table>\n",
       "<p>5 rows × 32 columns</p>\n",
       "</div>"
      ],
      "text/plain": [
       "                  Country Name Country Code                   Indicator Name  \\\n",
       "0                        Aruba          ABW  Control of Corruption: Estimate   \n",
       "1  Africa Eastern and Southern          AFE  Control of Corruption: Estimate   \n",
       "2                  Afghanistan          AFG  Control of Corruption: Estimate   \n",
       "3   Africa Western and Central          AFW  Control of Corruption: Estimate   \n",
       "4                       Angola          AGO  Control of Corruption: Estimate   \n",
       "\n",
       "                                  Topic short description long description  \\\n",
       "0  Public Sector: Policy & institutions               NaN              NaN   \n",
       "1  Public Sector: Policy & institutions               NaN              NaN   \n",
       "2  Public Sector: Policy & institutions               NaN              NaN   \n",
       "3  Public Sector: Policy & institutions               NaN              NaN   \n",
       "4  Public Sector: Policy & institutions               NaN              NaN   \n",
       "\n",
       "  Indicator Code Unit of measure      2000  2001  ...      2014      2015  \\\n",
       "0         CC.EST               0       NaN   NaN  ...  1.014232  1.248461   \n",
       "1         CC.EST               0       NaN   NaN  ...       NaN       NaN   \n",
       "2         CC.EST               0 -1.271724   NaN  ... -1.364743 -1.354240   \n",
       "3         CC.EST               0       NaN   NaN  ...       NaN       NaN   \n",
       "4         CC.EST               0 -1.197514   NaN  ... -1.457798 -1.427323   \n",
       "\n",
       "       2016      2017      2018      2019      2020      2021      2022  2023  \n",
       "0  1.232735  1.239377  1.207429  1.174703  1.199392  0.801611  0.756785   NaN  \n",
       "1       NaN       NaN       NaN       NaN       NaN       NaN       NaN   NaN  \n",
       "2 -1.540353 -1.531910 -1.502881 -1.419499 -1.493700 -1.152327 -1.183776   NaN  \n",
       "3       NaN       NaN       NaN       NaN       NaN       NaN       NaN   NaN  \n",
       "4 -1.483337 -1.444333 -1.199251 -1.058418 -0.938673 -0.651610 -0.601941   NaN  \n",
       "\n",
       "[5 rows x 32 columns]"
      ]
     },
     "execution_count": 3,
     "metadata": {},
     "output_type": "execute_result"
    }
   ],
   "source": [
    "df = pd.read_excel(xls, sheet_name=\"AFE\")\n",
    "df.head()  # Preview first few rows\n"
   ]
  },
  {
   "cell_type": "code",
   "execution_count": 4,
   "id": "0a6ef71b",
   "metadata": {},
   "outputs": [
    {
     "name": "stdout",
     "output_type": "stream",
     "text": [
      "Column Names: Index(['Country Name', 'Country Code', 'Indicator Name', 'Topic',\n",
      "       'short description', 'long description', 'Indicator Code',\n",
      "       'Unit of measure', '2000', '2001', '2002', '2003', '2004', '2005',\n",
      "       '2006', '2007', '2008', '2009', '2010', '2011', '2012', '2013', '2014',\n",
      "       '2015', '2016', '2017', '2018', '2019', '2020', '2021', '2022', '2023'],\n",
      "      dtype='object')\n"
     ]
    }
   ],
   "source": [
    "print(\"Column Names:\", df.columns)"
   ]
  },
  {
   "cell_type": "markdown",
   "id": "a527af55",
   "metadata": {},
   "source": [
    "## Cleaning the Data "
   ]
  },
  {
   "cell_type": "code",
   "execution_count": 5,
   "id": "32063e16",
   "metadata": {},
   "outputs": [
    {
     "name": "stdout",
     "output_type": "stream",
     "text": [
      "Missing values per column:\n",
      "Country Name             0\n",
      "Country Code             0\n",
      "Indicator Name           0\n",
      "Topic                    0\n",
      "short description    21547\n",
      "long description       266\n",
      "Indicator Code           0\n",
      "Unit of measure          0\n",
      "2000                 11765\n",
      "2001                 13565\n",
      "2002                 13132\n",
      "2003                 13129\n",
      "2004                 12912\n",
      "2005                 12343\n",
      "2006                 12479\n",
      "2007                 12599\n",
      "2008                 12500\n",
      "2009                 12326\n",
      "2010                 10886\n",
      "2011                 11828\n",
      "2012                 11686\n",
      "2013                 12063\n",
      "2014                 11786\n",
      "2015                 11009\n",
      "2016                 12103\n",
      "2017                 12303\n",
      "2018                 12252\n",
      "2019                 11679\n",
      "2020                 12707\n",
      "2021                 13167\n",
      "2022                 14686\n",
      "2023                 21176\n",
      "dtype: int64\n"
     ]
    }
   ],
   "source": [
    "# Check for missing values\n",
    "df.isnull().sum()\n",
    "print(\"Missing values per column:\")\n",
    "print(df.isnull().sum())"
   ]
  },
  {
   "cell_type": "code",
   "execution_count": 6,
   "id": "3be93864",
   "metadata": {},
   "outputs": [],
   "source": [
    "# Drop columns not needed for our analysis\n",
    "df = df.drop(columns=[\"short description\", \"long description\"])\n",
    "\n",
    "# Define the list of year columns (2000 to 2023) and convert them to numeric\n",
    "year_columns = [str(year) for year in range(2000, 2024)]\n",
    "df[year_columns] = df[year_columns].apply(pd.to_numeric, errors='coerce')\n",
    "\n",
    "# Remove extra whitespace from key text columns\n",
    "df[\"Country Name\"] = df[\"Country Name\"].astype(str).str.strip()\n",
    "df[\"Indicator Name\"] = df[\"Indicator Name\"].astype(str).str.strip()\n"
   ]
  },
  {
   "cell_type": "code",
   "execution_count": 7,
   "id": "b1184bbb",
   "metadata": {},
   "outputs": [
    {
     "name": "stdout",
     "output_type": "stream",
     "text": [
      "Filtered data for Afghanistan and indicator:\n",
      "  Country Name Country Code                   Indicator Name  \\\n",
      "2  Afghanistan          AFG  Control of Corruption: Estimate   \n",
      "\n",
      "                                  Topic Indicator Code Unit of measure  \\\n",
      "2  Public Sector: Policy & institutions         CC.EST               0   \n",
      "\n",
      "       2000  2001      2002     2003  ...      2014     2015      2016  \\\n",
      "2 -1.271724   NaN -1.251137 -1.34418  ... -1.364743 -1.35424 -1.540353   \n",
      "\n",
      "      2017      2018      2019    2020      2021      2022  2023  \n",
      "2 -1.53191 -1.502881 -1.419499 -1.4937 -1.152327 -1.183776   NaN  \n",
      "\n",
      "[1 rows x 30 columns]\n"
     ]
    },
    {
     "data": {
      "image/png": "[encoded data removed]",
      "text/plain": [
       "<Figure size 1000x600 with 1 Axes>"
      ]
     },
     "metadata": {},
     "output_type": "display_data"
    }
   ],
   "source": [
    "country = \"Afghanistan\"\n",
    "indicator = \"Control of Corruption: Estimate\"\n",
    "\n",
    "# Filter data for Afghanistan and the specified indicator\n",
    "afghanistan_data = df[(df[\"Country Name\"] == country) & (df[\"Indicator Name\"] == indicator)]\n",
    "print(\"Filtered data for Afghanistan and indicator:\")\n",
    "print(afghanistan_data)\n",
    "\n",
    "if not afghanistan_data.empty:\n",
    "    # Use years 2000 to 2023\n",
    "    values = afghanistan_data[year_columns].iloc[0]\n",
    "    # Interpolate to fill missing values in the time series\n",
    "    values_interpolated = values.interpolate(method='linear')\n",
    "    plt.figure(figsize=(10, 6))\n",
    "    plt.plot(year_columns, values_interpolated, marker='o')\n",
    "    plt.title(f\"{indicator} for {country} (2000-2023) [Interpolated]\")\n",
    "    plt.xlabel(\"Year\")\n",
    "    plt.ylabel(\"Value\")\n",
    "    plt.xticks(rotation=45)\n",
    "    plt.show()\n",
    "else:\n",
    "    print(f\"No data found for {country} with indicator '{indicator}'.\")"
   ]
  },
  {
   "cell_type": "code",
   "execution_count": 8,
   "id": "bbdcbdef",
   "metadata": {},
   "outputs": [
    {
     "name": "stdout",
     "output_type": "stream",
     "text": [
      "Pivoted data for 2022:\n",
      "Indicator Name               Control of Corruption: Estimate\n",
      "Country Name                                                \n",
      "Afghanistan                                        -1.183776\n",
      "Africa Eastern and Southern                              NaN\n",
      "Africa Western and Central                               NaN\n",
      "Albania                                            -0.407876\n",
      "Algeria                                            -0.637930\n"
     ]
    }
   ],
   "source": [
    "pivot_data = df[df[\"Indicator Name\"] == indicator].pivot(index=\"Country Name\", \n",
    "                                                         columns=\"Indicator Name\", \n",
    "                                                         values=\"2022\")\n",
    "print(\"Pivoted data for 2022:\")\n",
    "print(pivot_data.head())"
   ]
  },
  {
   "cell_type": "markdown",
   "id": "eb2a78bf",
   "metadata": {},
   "source": [
    "## Constructing the Multidimensional Poverty Index"
   ]
  },
  {
   "cell_type": "code",
   "execution_count": 9,
   "id": "c66e7fed",
   "metadata": {},
   "outputs": [
    {
     "data": {
      "text/plain": [
       "array(['Control of Corruption: Estimate',\n",
       "       'Multilateral debt service (% of public and publicly guaranteed debt service)',\n",
       "       'Access to clean fuels and technologies for cooking, rural (% of rural population)',\n",
       "       'Access to clean fuels and technologies for cooking, urban (% of urban population)',\n",
       "       'Access to clean fuels and technologies for cooking (% of population)',\n",
       "       'Access to electricity, rural (% of rural population)',\n",
       "       'Access to electricity, urban (% of urban population)',\n",
       "       'Access to electricity (% of population)',\n",
       "       'Compensation of employees (current LCU)',\n",
       "       'Compensation of employees (% of expense)',\n",
       "       'Adjusted savings: education expenditure (current US$)',\n",
       "       'Adjusted net national income per capita (current US$)',\n",
       "       'Terms of trade adjustment (constant LCU)',\n",
       "       'Adequacy of social protection and labor programs (% of total welfare of beneficiary households)',\n",
       "       'Adequacy of unemployment benefits and ALMP (% of total welfare of beneficiary households)',\n",
       "       'Adequacy of social safety net programs (% of total welfare of beneficiary households)',\n",
       "       'Adequacy of social insurance programs (% of total welfare of beneficiary households)',\n",
       "       'Political Stability and Absence of Violence/Terrorism: Estimate',\n",
       "       'Literacy rate, youth female (% of females ages 15-24)',\n",
       "       'Literacy rate, youth (ages 15-24), gender parity index (GPI)',\n",
       "       'Literacy rate, youth male (% of males ages 15-24)',\n",
       "       'Literacy rate, youth total (% of people ages 15-24)',\n",
       "       'Literacy rate, adult female (% of females ages 15 and above)',\n",
       "       'Literacy rate, adult male (% of males ages 15 and above)',\n",
       "       'Literacy rate, adult total (% of people ages 15 and above)',\n",
       "       'Compulsory education, duration (years)',\n",
       "       'School enrollment, primary (gross), gender parity index (GPI)',\n",
       "       'School enrollment, secondary (gross), gender parity index (GPI)',\n",
       "       'School enrollment, tertiary (gross), gender parity index (GPI)',\n",
       "       'Children out of school, primary',\n",
       "       'Children out of school, primary, female',\n",
       "       'Children out of school, female (% of female primary school age)',\n",
       "       'Children out of school, primary, male',\n",
       "       'Children out of school, male (% of male primary school age)',\n",
       "       'Children out of school (% of primary school age)',\n",
       "       'Adolescents out of school, female (% of female lower secondary school age)',\n",
       "       'Adolescents out of school, male (% of male lower secondary school age)',\n",
       "       'Adolescents out of school (% of lower secondary school age)',\n",
       "       'Expenditure on primary education (% of government expenditure on education)',\n",
       "       'Expenditure on secondary education (% of government expenditure on education)',\n",
       "       'Expenditure on tertiary education (% of government expenditure on education)',\n",
       "       'Total alcohol consumption per capita (liters of pure alcohol, projected estimates, 15+ years of age)',\n",
       "       'Cause of death, by communicable diseases and maternal, prenatal and nutrition conditions (% of total)',\n",
       "       'Cause of death, by injury (% of total)',\n",
       "       'Cause of death, by non-communicable diseases (% of total)',\n",
       "       'People using at least basic drinking water services (% of population)',\n",
       "       'People using safely managed drinking water services (% of population)',\n",
       "       'Community health workers (per 1,000 people)',\n",
       "       'Pregnant women receiving prenatal care (%)',\n",
       "       'People using at least basic sanitation services (% of population)',\n",
       "       'Births attended by skilled health staff (% of total)',\n",
       "       'Current health expenditure (% of GDP)',\n",
       "       'Current health expenditure per capita (current US$)',\n",
       "       'Proportion of people living below 50 percent of median income (%)',\n",
       "       'Multidimensional poverty headcount ratio (UNDP) (% of population)',\n",
       "       'Multidimensional poverty headcount ratio (World Bank) (% of population)',\n",
       "       'Employers, female (% of female employment) (modeled ILO estimate)',\n",
       "       'Employers, male (% of male employment) (modeled ILO estimate)',\n",
       "       'Employers, total (% of total employment) (modeled ILO estimate)',\n",
       "       'Wage and salaried workers, female (% of female employment) (modeled ILO estimate)',\n",
       "       'Wage and salaried workers, male (% of male employment) (modeled ILO estimate)',\n",
       "       'Wage and salaried workers, total (% of total employment) (modeled ILO estimate)',\n",
       "       'Children in employment, study and work, female (% of female children in employment, ages 7-14)',\n",
       "       'Children in employment, study and work, male (% of male children in employment, ages 7-14)',\n",
       "       'Children in employment, study and work (% of children in employment, ages 7-14)',\n",
       "       'Children in employment, work only, female (% of female children in employment, ages 7-14)',\n",
       "       'Children in employment, work only, male (% of male children in employment, ages 7-14)',\n",
       "       'Children in employment, work only (% of children in employment, ages 7-14)',\n",
       "       'Children in employment, total (% of children ages 7-14)',\n",
       "       'Unemployment with advanced education (% of total labor force with advanced education)',\n",
       "       'Unemployment with basic education (% of total labor force with basic education)',\n",
       "       'Unemployment with intermediate education (% of total labor force with intermediate education)',\n",
       "       'Unemployment, total (% of total labor force) (national estimate)',\n",
       "       'Children in employment, wage workers, female (% of female children in employment, ages 7-14)',\n",
       "       'Children in employment, wage workers, male (% of male children in employment, ages 7-14)',\n",
       "       'Children in employment, wage workers (% of children in employment, ages 7-14)',\n",
       "       'International migrant stock, total',\n",
       "       'Adolescent fertility rate (births per 1,000 women ages 15-19)',\n",
       "       'Birth rate, crude (per 1,000 people)',\n",
       "       'Wanted fertility rate (births per woman)',\n",
       "       'Women who were first married by age 15 (% of women ages 20-24)',\n",
       "       'Women who were first married by age 18 (% of women ages 20-24)',\n",
       "       'Teenage mothers (% of women ages 15-19 who have had children or are currently pregnant)',\n",
       "       'Age dependency ratio (% of working-age population)',\n",
       "       'Age dependency ratio, old (% of working-age population)',\n",
       "       'Age dependency ratio, young (% of working-age population)',\n",
       "       'Population, total', 'Urban population (% of total population)'],\n",
       "      dtype=object)"
      ]
     },
     "execution_count": 9,
     "metadata": {},
     "output_type": "execute_result"
    }
   ],
   "source": [
    "df[\"Indicator Name\"].unique()"
   ]
  },
  {
   "cell_type": "markdown",
   "id": "aed33041",
   "metadata": {},
   "source": [
    " For the MPI, we select three key indicators representing different dimensions:\n",
    "   - Education: Literacy rate, youth (ages 15-24), gender parity index (GPI)\n",
    "   - Health: Current health expenditure per capita (current US$)\n",
    "   - Living Standards: Access to clean fuels and technologies for cooking (% of population)"
   ]
  },
  {
   "cell_type": "code",
   "execution_count": 10,
   "id": "5ddda022",
   "metadata": {},
   "outputs": [
    {
     "name": "stdout",
     "output_type": "stream",
     "text": [
      "Pivoted Data for Selected Indicators (2022):\n",
      "Indicator Name               Access to clean fuels and technologies for cooking (% of population)  \\\n",
      "Country Name                                                                                        \n",
      "Afghanistan                                                          36.100000                      \n",
      "Africa Eastern and Southern                                          21.863139                      \n",
      "Africa Western and Central                                           22.319404                      \n",
      "Albania                                                              84.600000                      \n",
      "Algeria                                                              99.700000                      \n",
      "\n",
      "Indicator Name               Current health expenditure per capita (current US$)  \\\n",
      "Country Name                                                                       \n",
      "Afghanistan                                                        4811.679734     \n",
      "Africa Eastern and Southern                                        4811.679734     \n",
      "Africa Western and Central                                         4811.679734     \n",
      "Albania                                                            4811.679734     \n",
      "Algeria                                                            4811.679734     \n",
      "\n",
      "Indicator Name               Literacy rate, youth (ages 15-24), gender parity index (GPI)  \n",
      "Country Name                                                                               \n",
      "Afghanistan                                                           0.978784             \n",
      "Africa Eastern and Southern                                           0.991200             \n",
      "Africa Western and Central                                            0.847960             \n",
      "Albania                                                               1.008010             \n",
      "Algeria                                                               0.978784             \n"
     ]
    }
   ],
   "source": [
    "# Selected indicators (these are \"positive\" indicators where higher is better)\n",
    "education_indicator = \"Literacy rate, youth (ages 15-24), gender parity index (GPI)\"\n",
    "health_indicator = \"Current health expenditure per capita (current US$)\"\n",
    "living_standards_indicator = \"Access to clean fuels and technologies for cooking (% of population)\"\n",
    "selected_indicators = [education_indicator, health_indicator, living_standards_indicator]\n",
    "\n",
    "# Filter the dataset for these selected indicators using 2022 as the reference year\n",
    "df_selected = df[df[\"Indicator Name\"].isin(selected_indicators)]\n",
    "df_pivot = df_selected.pivot_table(index=\"Country Name\", \n",
    "                                   columns=\"Indicator Name\", \n",
    "                                   values=\"2022\")\n",
    "# Fill missing values with the column mean\n",
    "df_pivot = df_pivot.apply(lambda x: x.fillna(x.mean()), axis=0)\n",
    "print(\"Pivoted Data for Selected Indicators (2022):\")\n",
    "print(df_pivot.head())"
   ]
  },
  {
   "cell_type": "markdown",
   "id": "d2a73f7c",
   "metadata": {},
   "source": [
    " We normalize the data so that indicators with different scales become comparable.\n",
    " Since higher values for these indicators indicate better outcomes, we invert them\n",
    " (using 1 - normalized_value) so that a higher score now implies higher poverty."
   ]
  },
  {
   "cell_type": "code",
   "execution_count": 11,
   "id": "1467ce21",
   "metadata": {},
   "outputs": [
    {
     "name": "stdout",
     "output_type": "stream",
     "text": [
      "\n",
      "Top 10 Countries by Adjusted MPI (Simple Average after inverting):\n",
      "Indicator Name                   MPI\n",
      "Country Name                        \n",
      "Niger                       0.855383\n",
      "Chad                        0.828730\n",
      "Benin                       0.788741\n",
      "Guinea-Bissau               0.782751\n",
      "Somalia                     0.756234\n",
      "Africa Western and Central  0.697301\n",
      "Sierra Leone                0.682328\n",
      "Congo, Dem. Rep.            0.680941\n",
      "South Sudan                 0.663937\n",
      "Liberia                     0.661270\n"
     ]
    }
   ],
   "source": [
    "scaler = MinMaxScaler()\n",
    "normalized_values = scaler.fit_transform(df_pivot)\n",
    "df_normalized = pd.DataFrame(normalized_values, columns=df_pivot.columns, index=df_pivot.index)\n",
    "\n",
    "# we invert them (1 - normalized_value) so that a higher value reflects higher poverty.\n",
    "df_inverted = 1 - df_normalized\n",
    "\n",
    "# Compute the composite MPI as the simple average of the inverted scores\n",
    "df_inverted[\"MPI\"] = df_inverted.mean(axis=1)\n",
    "\n",
    "# Rank countries by the adjusted MPI (higher MPI implies more multidimensional poverty)\n",
    "df_ranked = df_inverted.sort_values(\"MPI\", ascending=False)\n",
    "print(\"\\nTop 10 Countries by Adjusted MPI (Simple Average after inverting):\")\n",
    "print(df_ranked[[\"MPI\"]].head(10))"
   ]
  },
  {
   "cell_type": "markdown",
   "id": "db38ec59",
   "metadata": {},
   "source": [
    "## Determine the Most Influential Indicators"
   ]
  },
  {
   "cell_type": "code",
   "execution_count": 12,
   "id": "9660c79d",
   "metadata": {},
   "outputs": [
    {
     "name": "stdout",
     "output_type": "stream",
     "text": [
      "\n",
      "All selected indicators are available for PCA-based weighting.\n"
     ]
    }
   ],
   "source": [
    "existing_indicators = [ind for ind in selected_indicators if ind in df_normalized.columns]\n",
    "if len(existing_indicators) < len(selected_indicators):\n",
    "    missing = set(selected_indicators) - set(existing_indicators)\n",
    "    print(\"\\nWarning: The following indicators are missing and will be excluded from PCA-based weighting:\")\n",
    "    print(missing)\n",
    "else:\n",
    "    print(\"\\nAll selected indicators are available for PCA-based weighting.\")"
   ]
  },
  {
   "cell_type": "code",
   "execution_count": 13,
   "id": "3a6baefd",
   "metadata": {
    "scrolled": true
   },
   "outputs": [
    {
     "name": "stdout",
     "output_type": "stream",
     "text": [
      "\n",
      "PCA-based Weights for Inverted Selected Indicators:\n",
      "Literacy rate, youth (ages 15-24), gender parity index (GPI): 0.0623\n",
      "Current health expenditure per capita (current US$): 0.0059\n",
      "Access to clean fuels and technologies for cooking (% of population): 0.9318\n"
     ]
    }
   ],
   "source": [
    "pca_full = PCA(n_components=1)\n",
    "pca_full.fit(df_inverted[selected_indicators])\n",
    "loadings = np.abs(pca_full.components_[0])\n",
    "weights = loadings / loadings.sum()  # Normalize the PCA loadings to sum to 1\n",
    "\n",
    "print(\"\\nPCA-based Weights for Inverted Selected Indicators:\")\n",
    "for ind, w in zip(selected_indicators, weights):\n",
    "    print(f\"{ind}: {w:.4f}\")\n"
   ]
  },
  {
   "cell_type": "code",
   "execution_count": 14,
   "id": "f7744e1d",
   "metadata": {},
   "outputs": [
    {
     "name": "stdout",
     "output_type": "stream",
     "text": [
      "\n",
      "Top 10 Countries by Weighted Adjusted MPI:\n",
      "Indicator Name            Weighted_MPI\n",
      "Country Name                          \n",
      "Guinea-Bissau                 0.972838\n",
      "South Sudan                   0.958459\n",
      "Burundi                       0.955588\n",
      "Sierra Leone                  0.953201\n",
      "Liberia                       0.951005\n",
      "Central African Republic      0.949141\n",
      "Guinea                        0.948209\n",
      "Mali                          0.947277\n",
      "Uganda                        0.945663\n",
      "Niger                         0.944674\n"
     ]
    }
   ],
   "source": [
    "# Compute a PCA-weighted MPI using the inverted indicators\n",
    "df_inverted[\"Weighted_MPI\"] = (df_inverted[selected_indicators] * weights).sum(axis=1)\n",
    "df_ranked_weighted = df_inverted.sort_values(\"Weighted_MPI\", ascending=False)\n",
    "print(\"\\nTop 10 Countries by Weighted Adjusted MPI:\")\n",
    "print(df_ranked_weighted[[\"Weighted_MPI\"]].head(10))"
   ]
  },
  {
   "cell_type": "code",
   "execution_count": 15,
   "id": "3b505fc8",
   "metadata": {},
   "outputs": [
    {
     "name": "stdout",
     "output_type": "stream",
     "text": [
      "\n",
      "Correlation of each inverted indicator with Adjusted MPI (Simple Average):\n",
      "Indicator Name\n",
      "Access to clean fuels and technologies for cooking (% of population)    0.950852\n",
      "Current health expenditure per capita (current US$)                     0.225124\n",
      "Literacy rate, youth (ages 15-24), gender parity index (GPI)            0.444547\n",
      "Weighted_MPI                                                            0.955122\n",
      "Name: MPI, dtype: float64\n"
     ]
    },
    {
     "data": {
      "image/png": "[encoded data removed]",
      "text/plain": [
       "<Figure size 800x600 with 1 Axes>"
      ]
     },
     "metadata": {},
     "output_type": "display_data"
    },
    {
     "name": "stdout",
     "output_type": "stream",
     "text": [
      "\n",
      "Explained Variance Ratio by PCA components:\n",
      "[0.89155814 0.06234499]\n"
     ]
    }
   ],
   "source": [
    "correlations = df_inverted.corr()[\"MPI\"].drop(\"MPI\")\n",
    "print(\"\\nCorrelation of each inverted indicator with Adjusted MPI (Simple Average):\")\n",
    "print(correlations)\n",
    "\n",
    "pca = PCA(n_components=2)\n",
    "pca_components = pca.fit_transform(df_inverted[selected_indicators])\n",
    "pca_df = pd.DataFrame(pca_components, columns=[\"PC1\", \"PC2\"], index=df_inverted.index)\n",
    "\n",
    "plt.figure(figsize=(8,6))\n",
    "sns.scatterplot(x=\"PC1\", y=\"PC2\", data=pca_df)\n",
    "plt.title(\"PCA of Inverted Selected Indicators\")\n",
    "plt.xlabel(\"Principal Component 1\")\n",
    "plt.ylabel(\"Principal Component 2\")\n",
    "plt.show()\n",
    "\n",
    "print(\"\\nExplained Variance Ratio by PCA components:\")\n",
    "print(pca.explained_variance_ratio_)\n"
   ]
  },
  {
   "cell_type": "markdown",
   "id": "f894edf6",
   "metadata": {},
   "source": [
    "## Develop Policy Recommendations"
   ]
  },
  {
   "cell_type": "code",
   "execution_count": 16,
   "id": "977a2cd2",
   "metadata": {},
   "outputs": [
    {
     "name": "stdout",
     "output_type": "stream",
     "text": [
      "\n",
      "Random Forest Feature Importances (Inverted Indicators):\n",
      "Literacy rate, youth (ages 15-24), gender parity index (GPI): 0.0532\n",
      "Current health expenditure per capita (current US$): 0.0370\n",
      "Access to clean fuels and technologies for cooking (% of population): 0.9098\n"
     ]
    }
   ],
   "source": [
    "X = df_inverted[selected_indicators]\n",
    "y = df_inverted[\"MPI\"]\n",
    "rf = RandomForestRegressor(n_estimators=100, random_state=42)\n",
    "rf.fit(X, y)\n",
    "importances = rf.feature_importances_\n",
    "print(\"\\nRandom Forest Feature Importances (Inverted Indicators):\")\n",
    "for ind, imp in zip(selected_indicators, importances):\n",
    "    print(f\"{ind}: {imp:.4f}\")"
   ]
  },
  {
   "cell_type": "markdown",
   "id": "3ffd6930",
   "metadata": {},
   "source": [
    "Based on the analysis, \"Access to clean fuels and technologies for cooking (% of population)\"\n",
    " emerges as the most influential indicator. This suggests that improving access to clean cooking solutions\n",
    " should be a key focus for poverty alleviation strategies."
   ]
  },
  {
   "cell_type": "code",
   "execution_count": 17,
   "id": "bcb0cfaa",
   "metadata": {},
   "outputs": [],
   "source": [
    "import os\n",
    "os.environ[\"OPENBLAS_NUM_THREADS\"] = \"1\"\n",
    "os.environ[\"OMP_NUM_THREADS\"] = \"1\""
   ]
  },
  {
   "cell_type": "code",
   "execution_count": 18,
   "id": "98ffeb70",
   "metadata": {
    "scrolled": false
   },
   "outputs": [
    {
     "data": {
      "image/png": "[encoded data removed]",
      "text/plain": [
       "<Figure size 800x600 with 1 Axes>"
      ]
     },
     "metadata": {},
     "output_type": "display_data"
    },
    {
     "name": "stdout",
     "output_type": "stream",
     "text": [
      "\n",
      "Cluster assignments (number of countries in each cluster):\n",
      "Cluster\n",
      "1    137\n",
      "2     59\n",
      "0     42\n",
      "Name: count, dtype: int64\n"
     ]
    }
   ],
   "source": [
    "kmeans = KMeans(n_clusters=3, n_init=10, random_state=42)\n",
    "clusters = kmeans.fit_predict(X)\n",
    "df_inverted[\"Cluster\"] = clusters\n",
    "\n",
    "# Visualize clusters in the PCA space\n",
    "clustered_pca_df = pca_df.assign(Cluster=clusters.astype(str))\n",
    "plt.figure(figsize=(8,6))\n",
    "sns.scatterplot(x=\"PC1\", y=\"PC2\", hue=\"Cluster\", data=clustered_pca_df, palette=\"Set1\")\n",
    "plt.title(\"Clustering of Countries based on Inverted Selected Indicators\")\n",
    "plt.xlabel(\"Principal Component 1\")\n",
    "plt.ylabel(\"Principal Component 2\")\n",
    "plt.show()\n",
    "\n",
    "print(\"\\nCluster assignments (number of countries in each cluster):\")\n",
    "print(df_inverted[\"Cluster\"].value_counts())"
   ]
  },
  {
   "cell_type": "code",
   "execution_count": 22,
   "id": "815246e4",
   "metadata": {},
   "outputs": [
    {
     "name": "stdout",
     "output_type": "stream",
     "text": [
      "\n",
      "Summary of Findings and Policy Recommendations:\n",
      "--------------------------------------------------\n",
      "1. The composite MPI (both simple and PCA-weighted) identifies countries such as Niger, Chad, and Guinea-Bissau as highly affected.\n",
      "2. PCA and correlation analyses indicate that 'Access to clean fuels and technologies for cooking (% of population)' is the most influential indicator.\n",
      "3. The Random Forest model confirms that this indicator has the highest feature importance.\n",
      "4. Clustering analysis reveals distinct groups of countries with similar poverty profiles, providing a basis for tailored policy interventions.\n",
      "\n",
      "Policy Recommendations:\n",
      "• Focus on improving access to clean cooking fuels and technologies as a priority intervention.\n",
      "• Develop integrated programs addressing education, health, and living standards.\n",
      "• Tailor interventions based on the distinct clusters of countries, ensuring that policy measures align with local challenges and sustainability goals.\n",
      "These insights align with SAP's commitment to sustainable development and equitable growth.\n"
     ]
    }
   ],
   "source": [
    "print(\"\\nSummary of Findings and Policy Recommendations:\")\n",
    "print(\"--------------------------------------------------\")\n",
    "print(\"1. The composite MPI (both simple and PCA-weighted) identifies countries such as Niger, Chad, and Guinea-Bissau as highly affected.\")\n",
    "print(\"2. PCA and correlation analyses indicate that 'Access to clean fuels and technologies for cooking (% of population)' is the most influential indicator.\")\n",
    "print(\"3. The Random Forest model confirms that this indicator has the highest feature importance.\")\n",
    "print(\"4. Clustering analysis reveals distinct groups of countries with similar poverty profiles, providing a basis for tailored policy interventions.\")\n",
    "print(\"\\nPolicy Recommendations:\")\n",
    "print(\"• Focus on improving access to clean cooking fuels and technologies as a priority intervention.\")\n",
    "print(\"• Develop integrated programs addressing education, health, and living standards.\")\n",
    "print(\"• Tailor interventions based on the distinct clusters of countries, ensuring that policy measures align with local challenges and sustainability goals.\")\n",
    "print(\"These insights align with SAP's commitment to sustainable development and equitable growth.\")\n",
    "\n"
   ]
  },
  {
   "cell_type": "code",
   "execution_count": 20,
   "id": "ca1df0b3",
   "metadata": {},
   "outputs": [
    {
     "name": "stdout",
     "output_type": "stream",
     "text": [
      "\n",
      "Top 10 most affected countries (highest MPI):\n",
      "Indicator Name                   MPI\n",
      "Country Name                        \n",
      "Niger                       0.855383\n",
      "Chad                        0.828730\n",
      "Benin                       0.788741\n",
      "Guinea-Bissau               0.782751\n",
      "Somalia                     0.756234\n",
      "Africa Western and Central  0.697301\n",
      "Sierra Leone                0.682328\n",
      "Congo, Dem. Rep.            0.680941\n",
      "South Sudan                 0.663937\n",
      "Liberia                     0.661270\n"
     ]
    }
   ],
   "source": [
    "top_affected = df_ranked.head(10)\n",
    "print(\"\\nTop 10 most affected countries (highest MPI):\")\n",
    "print(top_affected[[\"MPI\"]])\n"
   ]
  },
  {
   "cell_type": "code",
   "execution_count": null,
   "id": "873e863f",
   "metadata": {},
   "outputs": [],
   "source": []
  }
 ],
 "metadata": {
  "kernelspec": {
   "display_name": "Python 3 (ipykernel)",
   "language": "python",
   "name": "python3"
  },
  "language_info": {
   "codemirror_mode": {
    "name": "ipython",
    "version": 3
   },
   "file_extension": ".py",
   "mimetype": "text/x-python",
   "name": "python",
   "nbconvert_exporter": "python",
   "pygments_lexer": "ipython3",
   "version": "3.11.4"
  }
 },
 "nbformat": 4,
 "nbformat_minor": 5
}
